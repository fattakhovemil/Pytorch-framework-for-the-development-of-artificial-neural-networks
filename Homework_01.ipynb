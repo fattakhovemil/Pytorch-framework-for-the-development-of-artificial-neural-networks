{
 "cells": [
  {
   "cell_type": "code",
   "execution_count": 1,
   "metadata": {},
   "outputs": [],
   "source": [
    "import torch"
   ]
  },
  {
   "cell_type": "code",
   "execution_count": 42,
   "metadata": {},
   "outputs": [
    {
     "data": {
      "text/plain": [
       "tensor([[[0.2340, 0.3188, 0.4077, 0.0392, 0.8922],\n",
       "         [0.4715, 0.1270, 0.0759, 0.0019, 0.0093],\n",
       "         [0.6448, 0.7337, 0.3279, 0.7520, 0.8242],\n",
       "         [0.0408, 0.1208, 0.6825, 0.7974, 0.5494]],\n",
       "\n",
       "        [[0.0705, 0.8744, 0.2048, 0.9621, 0.3757],\n",
       "         [0.3922, 0.3572, 0.3314, 0.0120, 0.1143],\n",
       "         [0.3574, 0.1790, 0.4103, 0.9570, 0.8417],\n",
       "         [0.5903, 0.6256, 0.1407, 0.3844, 0.9308]],\n",
       "\n",
       "        [[0.5265, 0.3423, 0.8123, 0.8197, 0.6964],\n",
       "         [0.5155, 0.1228, 0.0535, 0.9484, 0.2096],\n",
       "         [0.2938, 0.8536, 0.0368, 0.5857, 0.7869],\n",
       "         [0.0311, 0.4625, 0.2797, 0.0922, 0.3277]]])"
      ]
     },
     "execution_count": 42,
     "metadata": {},
     "output_type": "execute_result"
    }
   ],
   "source": [
    "# Создайте случайный FloatTensor размера 3x4x5\n",
    "x = torch.rand((3, 4, 5), dtype=torch.float32)\n",
    "x"
   ]
  },
  {
   "cell_type": "code",
   "execution_count": 43,
   "metadata": {},
   "outputs": [
    {
     "data": {
      "text/plain": [
       "torch.Size([3, 4, 5])"
      ]
     },
     "execution_count": 43,
     "metadata": {},
     "output_type": "execute_result"
    }
   ],
   "source": [
    "# Выведите его форму (shape)\n",
    "x.shape"
   ]
  },
  {
   "cell_type": "code",
   "execution_count": 44,
   "metadata": {},
   "outputs": [
    {
     "data": {
      "text/plain": [
       "tensor([[0.2340, 0.3188, 0.4077, 0.0392, 0.8922, 0.4715, 0.1270, 0.0759, 0.0019,\n",
       "         0.0093],\n",
       "        [0.6448, 0.7337, 0.3279, 0.7520, 0.8242, 0.0408, 0.1208, 0.6825, 0.7974,\n",
       "         0.5494],\n",
       "        [0.0705, 0.8744, 0.2048, 0.9621, 0.3757, 0.3922, 0.3572, 0.3314, 0.0120,\n",
       "         0.1143],\n",
       "        [0.3574, 0.1790, 0.4103, 0.9570, 0.8417, 0.5903, 0.6256, 0.1407, 0.3844,\n",
       "         0.9308],\n",
       "        [0.5265, 0.3423, 0.8123, 0.8197, 0.6964, 0.5155, 0.1228, 0.0535, 0.9484,\n",
       "         0.2096],\n",
       "        [0.2938, 0.8536, 0.0368, 0.5857, 0.7869, 0.0311, 0.4625, 0.2797, 0.0922,\n",
       "         0.3277]])"
      ]
     },
     "execution_count": 44,
     "metadata": {},
     "output_type": "execute_result"
    }
   ],
   "source": [
    "# Приведите его к форме 6 X 10\n",
    "torch.reshape(x, (6, 10))"
   ]
  },
  {
   "cell_type": "code",
   "execution_count": 45,
   "metadata": {},
   "outputs": [
    {
     "data": {
      "text/plain": [
       "tensor([[[0.2340, 1.2752, 0.8153, 0.0784, 0.8922],\n",
       "         [0.4715, 0.5082, 0.1518, 0.0038, 0.0093],\n",
       "         [0.6448, 2.9349, 0.6559, 1.5039, 0.8242],\n",
       "         [0.0408, 0.4832, 1.3651, 1.5948, 0.5494]],\n",
       "\n",
       "        [[0.0705, 3.4976, 0.4097, 1.9241, 0.3757],\n",
       "         [0.3922, 1.4289, 0.6627, 0.0240, 0.1143],\n",
       "         [0.3574, 0.7159, 0.8207, 1.9141, 0.8417],\n",
       "         [0.5903, 2.5024, 0.2814, 0.7688, 0.9308]],\n",
       "\n",
       "        [[0.5265, 1.3690, 1.6247, 1.6395, 0.6964],\n",
       "         [0.5155, 0.4911, 0.1070, 1.8968, 0.2096],\n",
       "         [0.2938, 3.4142, 0.0736, 1.1714, 0.7869],\n",
       "         [0.0311, 1.8500, 0.5594, 0.1843, 0.3277]]])"
      ]
     },
     "execution_count": 45,
     "metadata": {},
     "output_type": "execute_result"
    }
   ],
   "source": [
    "# Умножьте его на вектор [1, 4, 2, 2, 1] поэлементно\n",
    "x * torch.LongTensor([1, 4, 2, 2, 1])"
   ]
  },
  {
   "cell_type": "code",
   "execution_count": 46,
   "metadata": {},
   "outputs": [
    {
     "data": {
      "text/plain": [
       "tensor([[1.3645, 1.3763, 1.0082, 1.4743, 1.4834, 1.1788],\n",
       "        [1.3763, 3.7260, 2.1449, 2.9233, 2.9911, 2.4183],\n",
       "        [1.0082, 2.1449, 2.2826, 2.1152, 1.8521, 1.9424],\n",
       "        [1.4743, 2.9233, 2.1152, 3.7264, 2.9018, 2.1832],\n",
       "        [1.4834, 2.9911, 1.8521, 2.9018, 3.4382, 1.7487],\n",
       "        [1.1788, 2.4183, 1.9424, 2.1832, 1.7487, 2.1875]])"
      ]
     },
     "execution_count": 46,
     "metadata": {},
     "output_type": "execute_result"
    }
   ],
   "source": [
    "# Умножьте тензор матрично на себя, чтобы результат был размерности 6x6\n",
    "torch.matmul(x.view(6, 10), torch.transpose(x.view(6, 10), 1, 0))"
   ]
  },
  {
   "cell_type": "code",
   "execution_count": 96,
   "metadata": {},
   "outputs": [],
   "source": [
    "# Посчитайте производную функции y = x**3 + z - 75t в точке (1, 0.5, 2)\n",
    "from torch.autograd import Variable\n",
    "\n",
    "x = Variable(torch.FloatTensor([1]), requires_grad = True)\n",
    "z = Variable(torch.FloatTensor([0.5]), requires_grad = True)\n",
    "t = Variable(torch.FloatTensor([2]), requires_grad = True)\n",
    "y = x**3 + z -75*t\n",
    "y.backward([x, z, t])"
   ]
  },
  {
   "cell_type": "code",
   "execution_count": 97,
   "metadata": {},
   "outputs": [
    {
     "data": {
      "text/plain": [
       "tensor([3.])"
      ]
     },
     "execution_count": 97,
     "metadata": {},
     "output_type": "execute_result"
    }
   ],
   "source": [
    "x.grad"
   ]
  },
  {
   "cell_type": "code",
   "execution_count": 98,
   "metadata": {},
   "outputs": [
    {
     "data": {
      "text/plain": [
       "tensor([-75.])"
      ]
     },
     "execution_count": 98,
     "metadata": {},
     "output_type": "execute_result"
    }
   ],
   "source": [
    "t.grad"
   ]
  },
  {
   "cell_type": "code",
   "execution_count": 99,
   "metadata": {},
   "outputs": [
    {
     "data": {
      "text/plain": [
       "tensor([1.])"
      ]
     },
     "execution_count": 99,
     "metadata": {},
     "output_type": "execute_result"
    }
   ],
   "source": [
    "z.grad"
   ]
  },
  {
   "cell_type": "code",
   "execution_count": 47,
   "metadata": {},
   "outputs": [
    {
     "data": {
      "text/plain": [
       "tensor([[1., 1., 1., 1., 1., 1.],\n",
       "        [1., 1., 1., 1., 1., 1.],\n",
       "        [1., 1., 1., 1., 1., 1.],\n",
       "        [1., 1., 1., 1., 1., 1.],\n",
       "        [1., 1., 1., 1., 1., 1.]])"
      ]
     },
     "execution_count": 47,
     "metadata": {},
     "output_type": "execute_result"
    }
   ],
   "source": [
    "# Создайте единичный тензор размера 5x6\n",
    "eye = torch.ones(5, 6)\n",
    "eye"
   ]
  },
  {
   "cell_type": "code",
   "execution_count": 48,
   "metadata": {},
   "outputs": [
    {
     "name": "stdout",
     "output_type": "stream",
     "text": [
      "<class 'numpy.ndarray'>\n"
     ]
    }
   ],
   "source": [
    "# Переведите его в формат numpy\n",
    "import numpy as np\n",
    "eye = eye.numpy()\n",
    "print(type(eye))"
   ]
  },
  {
   "cell_type": "code",
   "execution_count": 89,
   "metadata": {},
   "outputs": [],
   "source": [
    "# Давайте теперь пооптимизируем: возьмите функцию y = x**w1 - 2 * x**2 + 5\n",
    "# Посчитайте\n",
    "from torch import nn\n",
    "from torch import optim"
   ]
  },
  {
   "cell_type": "code",
   "execution_count": 100,
   "metadata": {},
   "outputs": [],
   "source": [
    "x = Variable(torch.randn(1), requires_grad = False)\n",
    "w1 = Variable(torch.rand(1), requires_grad=True)\n",
    "y = Variable(torch.randn(1), requires_grad = False)\n",
    "\n",
    "y = x**w1 - 2 * x**2 + 5\n",
    "y.backward()"
   ]
  },
  {
   "cell_type": "code",
   "execution_count": 103,
   "metadata": {},
   "outputs": [],
   "source": [
    "w = nn.Linear(1, 1, bias=False)"
   ]
  },
  {
   "cell_type": "code",
   "execution_count": 105,
   "metadata": {},
   "outputs": [],
   "source": [
    "optimizer = optim.SGD([w1], lr=0.01)\n",
    "criterion = nn.MSELoss()"
   ]
  },
  {
   "cell_type": "code",
   "execution_count": 106,
   "metadata": {},
   "outputs": [
    {
     "ename": "TypeError",
     "evalue": "pow() received an invalid combination of arguments - got (Linear), but expected one of:\n * (Tensor exponent)\n      didn't match because some of the arguments have invalid types: (!Linear!)\n * (Number exponent)\n      didn't match because some of the arguments have invalid types: (!Linear!)\n",
     "output_type": "error",
     "traceback": [
      "\u001b[1;31m---------------------------------------------------------------------------\u001b[0m",
      "\u001b[1;31mTypeError\u001b[0m                                 Traceback (most recent call last)",
      "\u001b[1;32m<ipython-input-106-be0c289bf345>\u001b[0m in \u001b[0;36m<module>\u001b[1;34m\u001b[0m\n\u001b[0;32m      1\u001b[0m \u001b[0moptimizer\u001b[0m\u001b[1;33m.\u001b[0m\u001b[0mzero_grad\u001b[0m\u001b[1;33m(\u001b[0m\u001b[1;33m)\u001b[0m\u001b[1;33m\u001b[0m\u001b[1;33m\u001b[0m\u001b[0m\n\u001b[1;32m----> 2\u001b[1;33m \u001b[0mpred\u001b[0m \u001b[1;33m=\u001b[0m \u001b[0mx\u001b[0m\u001b[1;33m**\u001b[0m\u001b[0mw\u001b[0m \u001b[1;33m-\u001b[0m \u001b[1;36m2\u001b[0m \u001b[1;33m*\u001b[0m \u001b[0mx\u001b[0m\u001b[1;33m**\u001b[0m\u001b[1;36m2\u001b[0m \u001b[1;33m+\u001b[0m \u001b[1;36m5\u001b[0m\u001b[1;33m\u001b[0m\u001b[1;33m\u001b[0m\u001b[0m\n\u001b[0m\u001b[0;32m      3\u001b[0m \u001b[0mloss\u001b[0m \u001b[1;33m=\u001b[0m \u001b[0mcriterion\u001b[0m\u001b[1;33m(\u001b[0m\u001b[0mpred\u001b[0m\u001b[1;33m,\u001b[0m \u001b[0my\u001b[0m\u001b[1;33m)\u001b[0m\u001b[1;33m\u001b[0m\u001b[1;33m\u001b[0m\u001b[0m\n\u001b[0;32m      4\u001b[0m \u001b[0mprint\u001b[0m\u001b[1;33m(\u001b[0m\u001b[1;34m'loss: '\u001b[0m\u001b[1;33m,\u001b[0m \u001b[0mloss\u001b[0m\u001b[1;33m.\u001b[0m\u001b[0mitem\u001b[0m\u001b[1;33m(\u001b[0m\u001b[1;33m)\u001b[0m\u001b[1;33m)\u001b[0m\u001b[1;33m\u001b[0m\u001b[1;33m\u001b[0m\u001b[0m\n",
      "\u001b[1;31mTypeError\u001b[0m: pow() received an invalid combination of arguments - got (Linear), but expected one of:\n * (Tensor exponent)\n      didn't match because some of the arguments have invalid types: (!Linear!)\n * (Number exponent)\n      didn't match because some of the arguments have invalid types: (!Linear!)\n"
     ]
    }
   ],
   "source": [
    "optimizer.zero_grad()\n",
    "pred = x**w - 2 * x**2 + 5\n",
    "loss = criterion(pred, y)\n",
    "print('loss: ', loss.item())"
   ]
  },
  {
   "cell_type": "code",
   "execution_count": 107,
   "metadata": {},
   "outputs": [
    {
     "ename": "NameError",
     "evalue": "name 'loss' is not defined",
     "output_type": "error",
     "traceback": [
      "\u001b[1;31m---------------------------------------------------------------------------\u001b[0m",
      "\u001b[1;31mNameError\u001b[0m                                 Traceback (most recent call last)",
      "\u001b[1;32m<ipython-input-107-52a0569421b1>\u001b[0m in \u001b[0;36m<module>\u001b[1;34m\u001b[0m\n\u001b[1;32m----> 1\u001b[1;33m \u001b[0mloss\u001b[0m\u001b[1;33m.\u001b[0m\u001b[0mbackward\u001b[0m\u001b[1;33m(\u001b[0m\u001b[1;33m)\u001b[0m\u001b[1;33m\u001b[0m\u001b[1;33m\u001b[0m\u001b[0m\n\u001b[0m",
      "\u001b[1;31mNameError\u001b[0m: name 'loss' is not defined"
     ]
    }
   ],
   "source": [
    "loss.backward()"
   ]
  },
  {
   "cell_type": "code",
   "execution_count": 108,
   "metadata": {},
   "outputs": [],
   "source": [
    "optimizer.step()"
   ]
  },
  {
   "cell_type": "markdown",
   "metadata": {},
   "source": [
    "P.S. С последним пунктом задания не успел разобраться"
   ]
  }
 ],
 "metadata": {
  "kernelspec": {
   "display_name": "Python 3",
   "language": "python",
   "name": "python3"
  },
  "language_info": {
   "codemirror_mode": {
    "name": "ipython",
    "version": 3
   },
   "file_extension": ".py",
   "mimetype": "text/x-python",
   "name": "python",
   "nbconvert_exporter": "python",
   "pygments_lexer": "ipython3",
   "version": "3.8.7"
  }
 },
 "nbformat": 4,
 "nbformat_minor": 2
}
